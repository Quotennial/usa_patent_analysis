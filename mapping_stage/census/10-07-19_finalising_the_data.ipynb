{
 "cells": [
  {
   "cell_type": "markdown",
   "metadata": {},
   "source": [
    "# Finalising the Data - 10-07-19\n",
    "\n",
    "Importing census data and ironing out the dependent variable"
   ]
  },
  {
   "cell_type": "code",
   "execution_count": 1,
   "metadata": {},
   "outputs": [],
   "source": [
    "import pandas as pd\n",
    "import numpy as np\n",
    "import seaborn as sns\n",
    "import folium \n",
    "import matplotlib\n",
    "import matplotlib.pyplot as plt\n",
    "\n",
    "from scipy import stats\n"
   ]
  },
  {
   "cell_type": "code",
   "execution_count": 2,
   "metadata": {
    "scrolled": true
   },
   "outputs": [
    {
     "data": {
      "text/html": [
       "<div>\n",
       "<style scoped>\n",
       "    .dataframe tbody tr th:only-of-type {\n",
       "        vertical-align: middle;\n",
       "    }\n",
       "\n",
       "    .dataframe tbody tr th {\n",
       "        vertical-align: top;\n",
       "    }\n",
       "\n",
       "    .dataframe thead th {\n",
       "        text-align: right;\n",
       "    }\n",
       "</style>\n",
       "<table border=\"1\" class=\"dataframe\">\n",
       "  <thead>\n",
       "    <tr style=\"text-align: right;\">\n",
       "      <th></th>\n",
       "      <th>STCOU</th>\n",
       "      <th>patent_output</th>\n",
       "      <th>total_cited_by</th>\n",
       "      <th>avg_cit_pp</th>\n",
       "      <th>Area_name</th>\n",
       "      <th>total_pop</th>\n",
       "      <th>pop_psqm</th>\n",
       "      <th>pct_2races</th>\n",
       "    </tr>\n",
       "  </thead>\n",
       "  <tbody>\n",
       "    <tr>\n",
       "      <th>0</th>\n",
       "      <td>6085</td>\n",
       "      <td>13755</td>\n",
       "      <td>28775</td>\n",
       "      <td>2.091967</td>\n",
       "      <td>Santa Clara, CA</td>\n",
       "      <td>1781642.0</td>\n",
       "      <td>1381.0</td>\n",
       "      <td>4.9</td>\n",
       "    </tr>\n",
       "    <tr>\n",
       "      <th>1</th>\n",
       "      <td>6037</td>\n",
       "      <td>5907</td>\n",
       "      <td>10176</td>\n",
       "      <td>1.722702</td>\n",
       "      <td>Los Angeles, CA</td>\n",
       "      <td>9818605.0</td>\n",
       "      <td>2419.6</td>\n",
       "      <td>4.5</td>\n",
       "    </tr>\n",
       "    <tr>\n",
       "      <th>2</th>\n",
       "      <td>6073</td>\n",
       "      <td>5445</td>\n",
       "      <td>9663</td>\n",
       "      <td>1.774656</td>\n",
       "      <td>San Diego, CA</td>\n",
       "      <td>3095313.0</td>\n",
       "      <td>735.8</td>\n",
       "      <td>5.1</td>\n",
       "    </tr>\n",
       "    <tr>\n",
       "      <th>3</th>\n",
       "      <td>53033</td>\n",
       "      <td>4325</td>\n",
       "      <td>9820</td>\n",
       "      <td>2.270520</td>\n",
       "      <td>King, WA</td>\n",
       "      <td>1931249.0</td>\n",
       "      <td>912.9</td>\n",
       "      <td>5.0</td>\n",
       "    </tr>\n",
       "    <tr>\n",
       "      <th>4</th>\n",
       "      <td>6059</td>\n",
       "      <td>4007</td>\n",
       "      <td>9045</td>\n",
       "      <td>2.257300</td>\n",
       "      <td>Orange, CA</td>\n",
       "      <td>3010232.0</td>\n",
       "      <td>3807.7</td>\n",
       "      <td>4.2</td>\n",
       "    </tr>\n",
       "  </tbody>\n",
       "</table>\n",
       "</div>"
      ],
      "text/plain": [
       "   STCOU  patent_output  total_cited_by  avg_cit_pp        Area_name  \\\n",
       "0   6085          13755           28775    2.091967  Santa Clara, CA   \n",
       "1   6037           5907           10176    1.722702  Los Angeles, CA   \n",
       "2   6073           5445            9663    1.774656    San Diego, CA   \n",
       "3  53033           4325            9820    2.270520         King, WA   \n",
       "4   6059           4007            9045    2.257300       Orange, CA   \n",
       "\n",
       "   total_pop  pop_psqm  pct_2races  \n",
       "0  1781642.0    1381.0         4.9  \n",
       "1  9818605.0    2419.6         4.5  \n",
       "2  3095313.0     735.8         5.1  \n",
       "3  1931249.0     912.9         5.0  \n",
       "4  3010232.0    3807.7         4.2  "
      ]
     },
     "execution_count": 2,
     "metadata": {},
     "output_type": "execute_result"
    }
   ],
   "source": [
    "master_df = pd.read_csv(\"agg_census.csv\", index_col=0)\n",
    "master_df.head()"
   ]
  },
  {
   "cell_type": "markdown",
   "metadata": {},
   "source": [
    "## Dependent Variable\n",
    "\n",
    "- Citations average take the median (what about 0)\n",
    "- Calculate rate of patent increase"
   ]
  },
  {
   "cell_type": "code",
   "execution_count": 3,
   "metadata": {
    "scrolled": false
   },
   "outputs": [
    {
     "data": {
      "text/html": [
       "<div>\n",
       "<style scoped>\n",
       "    .dataframe tbody tr th:only-of-type {\n",
       "        vertical-align: middle;\n",
       "    }\n",
       "\n",
       "    .dataframe tbody tr th {\n",
       "        vertical-align: top;\n",
       "    }\n",
       "\n",
       "    .dataframe thead th {\n",
       "        text-align: right;\n",
       "    }\n",
       "</style>\n",
       "<table border=\"1\" class=\"dataframe\">\n",
       "  <thead>\n",
       "    <tr style=\"text-align: right;\">\n",
       "      <th></th>\n",
       "      <th>it_cited_median</th>\n",
       "      <th>cited_by_median</th>\n",
       "    </tr>\n",
       "    <tr>\n",
       "      <th>STCOU</th>\n",
       "      <th></th>\n",
       "      <th></th>\n",
       "    </tr>\n",
       "  </thead>\n",
       "  <tbody>\n",
       "    <tr>\n",
       "      <th>1001</th>\n",
       "      <td>5.5</td>\n",
       "      <td>0.0</td>\n",
       "    </tr>\n",
       "    <tr>\n",
       "      <th>1003</th>\n",
       "      <td>9.0</td>\n",
       "      <td>0.0</td>\n",
       "    </tr>\n",
       "    <tr>\n",
       "      <th>1005</th>\n",
       "      <td>27.0</td>\n",
       "      <td>1.0</td>\n",
       "    </tr>\n",
       "    <tr>\n",
       "      <th>1007</th>\n",
       "      <td>3.0</td>\n",
       "      <td>0.0</td>\n",
       "    </tr>\n",
       "    <tr>\n",
       "      <th>1009</th>\n",
       "      <td>13.0</td>\n",
       "      <td>0.0</td>\n",
       "    </tr>\n",
       "  </tbody>\n",
       "</table>\n",
       "</div>"
      ],
      "text/plain": [
       "       it_cited_median  cited_by_median\n",
       "STCOU                                  \n",
       "1001               5.5              0.0\n",
       "1003               9.0              0.0\n",
       "1005              27.0              1.0\n",
       "1007               3.0              0.0\n",
       "1009              13.0              0.0"
      ]
     },
     "execution_count": 3,
     "metadata": {},
     "output_type": "execute_result"
    }
   ],
   "source": [
    "#Aim to find the median ctations opposed to mean\n",
    "imported_df = pd.read_csv(\"first_census_patent.csv\", index_col=0)\n",
    "median_df = imported_df.groupby(['STCOU']).median()\n",
    "median_df2 = median_df[['it_cited', 'cited_by']]\n",
    "median_df2 = median_df2.rename(columns={'it_cited': 'it_cited_median', 'cited_by': 'cited_by_median'})\n",
    "\n",
    "median_df2.head()"
   ]
  },
  {
   "cell_type": "code",
   "execution_count": 4,
   "metadata": {},
   "outputs": [
    {
     "data": {
      "text/plain": [
       "count    2382.000000\n",
       "mean       13.708438\n",
       "std        14.480494\n",
       "min         0.000000\n",
       "25%         7.500000\n",
       "50%        11.000000\n",
       "75%        15.500000\n",
       "max       259.000000\n",
       "Name: it_cited_median, dtype: object"
      ]
     },
     "execution_count": 4,
     "metadata": {},
     "output_type": "execute_result"
    }
   ],
   "source": [
    "#Descriptive Stats for number of patents it cited\n",
    "median_df2['it_cited_median'].describe().apply(lambda x: format(x, 'f'))"
   ]
  },
  {
   "cell_type": "code",
   "execution_count": 5,
   "metadata": {},
   "outputs": [
    {
     "data": {
      "text/plain": [
       "count    2382.000000\n",
       "mean        0.591940\n",
       "std         1.466891\n",
       "min         0.000000\n",
       "25%         0.000000\n",
       "50%         0.000000\n",
       "75%         1.000000\n",
       "max        29.000000\n",
       "Name: cited_by_median, dtype: object"
      ]
     },
     "execution_count": 5,
     "metadata": {},
     "output_type": "execute_result"
    }
   ],
   "source": [
    "#Descriptive Stats for number of patents it is cited by\n",
    "median_df2['cited_by_median'].describe().apply(lambda x: format(x, 'f'))"
   ]
  },
  {
   "cell_type": "code",
   "execution_count": 6,
   "metadata": {
    "scrolled": true
   },
   "outputs": [
    {
     "data": {
      "text/plain": [
       "(0, 30)"
      ]
     },
     "execution_count": 6,
     "metadata": {},
     "output_type": "execute_result"
    },
    {
     "data": {
      "image/png": "[encoded data removed]",
      "text/plain": [
       "<Figure size 432x288 with 1 Axes>"
      ]
     },
     "metadata": {
      "needs_background": "light"
     },
     "output_type": "display_data"
    }
   ],
   "source": [
    "median_df2.plot.hist(stacked=True, bins=200)\n",
    "plt.xlim(0,30)\n"
   ]
  },
  {
   "cell_type": "markdown",
   "metadata": {},
   "source": [
    "Finding the mean of the top quaterile of cited_by. The citations tend to have a long tail, meaning there are a lot of 0 values. We overcome this by taking the top 90% percentile. 0 values are acheived when all patents have been cited 0 times."
   ]
  },
  {
   "cell_type": "code",
   "execution_count": 7,
   "metadata": {
    "scrolled": false
   },
   "outputs": [
    {
     "name": "stdout",
     "output_type": "stream",
     "text": [
      "County: 6001\n",
      "90th percentile: 4.0\n",
      "95th percentile: 5.0\n"
     ]
    },
    {
     "data": {
      "text/plain": [
       "<matplotlib.axes._subplots.AxesSubplot at 0x1a27d7b8d0>"
      ]
     },
     "execution_count": 7,
     "metadata": {},
     "output_type": "execute_result"
    },
    {
     "data": {
      "image/png": "[encoded data removed]",
      "text/plain": [
       "<Figure size 432x288 with 1 Axes>"
      ]
     },
     "metadata": {
      "needs_background": "light"
     },
     "output_type": "display_data"
    }
   ],
   "source": [
    "imported_df['date'] = imported_df['date'].str[:4]\n",
    "random_county = int(imported_df.sample()['STCOU'])#provides random county number (34013 good example)\n",
    "sample_median_df = imported_df.loc[imported_df['STCOU'] == 40143]\n",
    "\n",
    "print(f'County: {random_county}')\n",
    "\n",
    "print(f'90th percentile: {sample_median_df.quantile(0.9).values[2]}')\n",
    "print(f'95th percentile: {sample_median_df.quantile(.95).values[2]}')\n",
    "\n",
    "plt.title(f\"\"\"County: Tulsa, OK\n",
    "90th percentile: {sample_median_df.quantile(0.9).values[2]}\"\"\")\n",
    "sample_median_df.boxplot(column=['cited_by'])"
   ]
  },
  {
   "cell_type": "code",
   "execution_count": 8,
   "metadata": {},
   "outputs": [],
   "source": [
    "def top_percentile(x):\n",
    "    '''takes in a df, returns the top percentile value'''\n",
    "    percentile = x.quantile(0.9).values[2]\n",
    "    #print(x.iloc[0,17], f': {percentile}') #prints output of the function\n",
    "    return (percentile)"
   ]
  },
  {
   "cell_type": "code",
   "execution_count": 9,
   "metadata": {
    "scrolled": true
   },
   "outputs": [
    {
     "data": {
      "text/plain": [
       "<matplotlib.axes._subplots.AxesSubplot at 0x1a2814c278>"
      ]
     },
     "execution_count": 9,
     "metadata": {},
     "output_type": "execute_result"
    },
    {
     "data": {
      "image/png": "[encoded data removed]",
      "text/plain": [
       "<Figure size 432x288 with 1 Axes>"
      ]
     },
     "metadata": {
      "needs_background": "light"
     },
     "output_type": "display_data"
    }
   ],
   "source": [
    "#run through the df and apply the df function\n",
    "cited_group = imported_df.groupby(['STCOU']).apply(top_percentile).to_frame().reset_index().rename(columns={0: 'pctle_citedby'})\n",
    "\n",
    "#Plot the boxplot for the cited by values\n",
    "cited_group.boxplot(column=['pctle_citedby'])"
   ]
  },
  {
   "cell_type": "code",
   "execution_count": 10,
   "metadata": {
    "scrolled": true
   },
   "outputs": [
    {
     "data": {
      "text/html": [
       "<div>\n",
       "<style scoped>\n",
       "    .dataframe tbody tr th:only-of-type {\n",
       "        vertical-align: middle;\n",
       "    }\n",
       "\n",
       "    .dataframe tbody tr th {\n",
       "        vertical-align: top;\n",
       "    }\n",
       "\n",
       "    .dataframe thead th {\n",
       "        text-align: right;\n",
       "    }\n",
       "</style>\n",
       "<table border=\"1\" class=\"dataframe\">\n",
       "  <thead>\n",
       "    <tr style=\"text-align: right;\">\n",
       "      <th></th>\n",
       "      <th>STCOU</th>\n",
       "      <th>patent_output</th>\n",
       "      <th>total_cited_by</th>\n",
       "      <th>avg_cit_pp</th>\n",
       "      <th>Area_name</th>\n",
       "      <th>total_pop</th>\n",
       "      <th>pop_psqm</th>\n",
       "      <th>pct_2races</th>\n",
       "      <th>pctle_citedby</th>\n",
       "    </tr>\n",
       "  </thead>\n",
       "  <tbody>\n",
       "    <tr>\n",
       "      <th>0</th>\n",
       "      <td>6085</td>\n",
       "      <td>13755</td>\n",
       "      <td>28775</td>\n",
       "      <td>2.091967</td>\n",
       "      <td>Santa Clara, CA</td>\n",
       "      <td>1781642.0</td>\n",
       "      <td>1381.0</td>\n",
       "      <td>4.9</td>\n",
       "      <td>5.0</td>\n",
       "    </tr>\n",
       "    <tr>\n",
       "      <th>1</th>\n",
       "      <td>6037</td>\n",
       "      <td>5907</td>\n",
       "      <td>10176</td>\n",
       "      <td>1.722702</td>\n",
       "      <td>Los Angeles, CA</td>\n",
       "      <td>9818605.0</td>\n",
       "      <td>2419.6</td>\n",
       "      <td>4.5</td>\n",
       "      <td>4.0</td>\n",
       "    </tr>\n",
       "    <tr>\n",
       "      <th>2</th>\n",
       "      <td>6073</td>\n",
       "      <td>5445</td>\n",
       "      <td>9663</td>\n",
       "      <td>1.774656</td>\n",
       "      <td>San Diego, CA</td>\n",
       "      <td>3095313.0</td>\n",
       "      <td>735.8</td>\n",
       "      <td>5.1</td>\n",
       "      <td>4.0</td>\n",
       "    </tr>\n",
       "    <tr>\n",
       "      <th>3</th>\n",
       "      <td>53033</td>\n",
       "      <td>4325</td>\n",
       "      <td>9820</td>\n",
       "      <td>2.270520</td>\n",
       "      <td>King, WA</td>\n",
       "      <td>1931249.0</td>\n",
       "      <td>912.9</td>\n",
       "      <td>5.0</td>\n",
       "      <td>6.0</td>\n",
       "    </tr>\n",
       "    <tr>\n",
       "      <th>4</th>\n",
       "      <td>6059</td>\n",
       "      <td>4007</td>\n",
       "      <td>9045</td>\n",
       "      <td>2.257300</td>\n",
       "      <td>Orange, CA</td>\n",
       "      <td>3010232.0</td>\n",
       "      <td>3807.7</td>\n",
       "      <td>4.2</td>\n",
       "      <td>5.0</td>\n",
       "    </tr>\n",
       "  </tbody>\n",
       "</table>\n",
       "</div>"
      ],
      "text/plain": [
       "   STCOU  patent_output  total_cited_by  avg_cit_pp        Area_name  \\\n",
       "0   6085          13755           28775    2.091967  Santa Clara, CA   \n",
       "1   6037           5907           10176    1.722702  Los Angeles, CA   \n",
       "2   6073           5445            9663    1.774656    San Diego, CA   \n",
       "3  53033           4325            9820    2.270520         King, WA   \n",
       "4   6059           4007            9045    2.257300       Orange, CA   \n",
       "\n",
       "   total_pop  pop_psqm  pct_2races  pctle_citedby  \n",
       "0  1781642.0    1381.0         4.9            5.0  \n",
       "1  9818605.0    2419.6         4.5            4.0  \n",
       "2  3095313.0     735.8         5.1            4.0  \n",
       "3  1931249.0     912.9         5.0            6.0  \n",
       "4  3010232.0    3807.7         4.2            5.0  "
      ]
     },
     "execution_count": 10,
     "metadata": {},
     "output_type": "execute_result"
    }
   ],
   "source": [
    "#Join to main dataframe\n",
    "master_df = pd.merge(master_df, cited_group, on = 'STCOU',  how='outer')\n",
    "master_df.head()"
   ]
  },
  {
   "cell_type": "code",
   "execution_count": 11,
   "metadata": {
    "scrolled": true
   },
   "outputs": [
    {
     "data": {
      "text/plain": [
       "pandas.core.frame.DataFrame"
      ]
     },
     "execution_count": 11,
     "metadata": {},
     "output_type": "execute_result"
    }
   ],
   "source": [
    "#Join to main data\n",
    "master_df = pd.merge(master_df, median_df2, on = 'STCOU',  how='outer')\n",
    "type(master_df.head())"
   ]
  },
  {
   "cell_type": "markdown",
   "metadata": {},
   "source": [
    "### Calculate rate of patent increase\n",
    "\n",
    "To find this metric we aim to plot the patent counts through time and then find the gradient. The first step is creating a function to do this for each county. The below code block illustrates the method beofre the actual function is defined."
   ]
  },
  {
   "cell_type": "code",
   "execution_count": 12,
   "metadata": {
    "scrolled": true
   },
   "outputs": [
    {
     "data": {
      "text/plain": [
       "Text(0.5, 1.0, 'County Number: 6037\\nPatent Output Gradient: 2.2023809523809526')"
      ]
     },
     "execution_count": 12,
     "metadata": {},
     "output_type": "execute_result"
    },
    {
     "data": {
      "image/png": "[encoded data removed]",
      "text/plain": [
       "<Figure size 432x288 with 1 Axes>"
      ]
     },
     "metadata": {
      "needs_background": "light"
     },
     "output_type": "display_data"
    }
   ],
   "source": [
    "imported_df['date'] = imported_df['date'].str[:4]\n",
    "\n",
    "random_county = int(imported_df.sample()['STCOU'])#provides randome county number\n",
    "\n",
    "sample_date_df = imported_df.loc[imported_df['STCOU'] == random_county]\n",
    "year_count_df=sample_date_df.groupby(['date']).size().to_frame().reset_index().astype(float)\n",
    "slope, intercept, r_value, p_value, std_err = stats.linregress(year_count_df['date'],year_count_df[0])\n",
    "\n",
    "\n",
    "sns.regplot(year_count_df['date'],year_count_df[0])\n",
    "plt.ylabel('Patent Output')\n",
    "plt.title(f\"\"\"County Number: {random_county}\n",
    "Patent Output Gradient: {slope}\"\"\")"
   ]
  },
  {
   "cell_type": "code",
   "execution_count": 13,
   "metadata": {},
   "outputs": [
    {
     "data": {
      "text/html": [
       "<div>\n",
       "<style scoped>\n",
       "    .dataframe tbody tr th:only-of-type {\n",
       "        vertical-align: middle;\n",
       "    }\n",
       "\n",
       "    .dataframe tbody tr th {\n",
       "        vertical-align: top;\n",
       "    }\n",
       "\n",
       "    .dataframe thead th {\n",
       "        text-align: right;\n",
       "    }\n",
       "</style>\n",
       "<table border=\"1\" class=\"dataframe\">\n",
       "  <thead>\n",
       "    <tr style=\"text-align: right;\">\n",
       "      <th></th>\n",
       "      <th>patent_id</th>\n",
       "      <th>date</th>\n",
       "      <th>title</th>\n",
       "      <th>section_id</th>\n",
       "      <th>inventor_id</th>\n",
       "      <th>city</th>\n",
       "      <th>state</th>\n",
       "      <th>it_cited</th>\n",
       "      <th>cited_by</th>\n",
       "      <th>STATEFP</th>\n",
       "      <th>...</th>\n",
       "      <th>GEOID</th>\n",
       "      <th>NAME</th>\n",
       "      <th>NAMELSAD</th>\n",
       "      <th>State ID</th>\n",
       "      <th>State Name</th>\n",
       "      <th>STCOU</th>\n",
       "      <th>Area_name</th>\n",
       "      <th>total_pop</th>\n",
       "      <th>pop_psqm</th>\n",
       "      <th>pct_2races</th>\n",
       "    </tr>\n",
       "  </thead>\n",
       "  <tbody>\n",
       "    <tr>\n",
       "      <th>19413</th>\n",
       "      <td>8587862</td>\n",
       "      <td>2013</td>\n",
       "      <td>Second-harmonic generation nonliner frenquency...</td>\n",
       "      <td>G</td>\n",
       "      <td>5438251-1</td>\n",
       "      <td>680</td>\n",
       "      <td>CA</td>\n",
       "      <td>4</td>\n",
       "      <td>0</td>\n",
       "      <td>6.0</td>\n",
       "      <td>...</td>\n",
       "      <td>6.075018e+09</td>\n",
       "      <td>180.0</td>\n",
       "      <td>Census Tract 180</td>\n",
       "      <td>6</td>\n",
       "      <td>California</td>\n",
       "      <td>6075</td>\n",
       "      <td>San Francisco, CA</td>\n",
       "      <td>805235.0</td>\n",
       "      <td>17179.1</td>\n",
       "      <td>4.7</td>\n",
       "    </tr>\n",
       "    <tr>\n",
       "      <th>19475</th>\n",
       "      <td>8075292</td>\n",
       "      <td>2011</td>\n",
       "      <td>Eccentric rotor compressor</td>\n",
       "      <td>F</td>\n",
       "      <td>6468045-1</td>\n",
       "      <td>174</td>\n",
       "      <td>CA</td>\n",
       "      <td>6</td>\n",
       "      <td>0</td>\n",
       "      <td>6.0</td>\n",
       "      <td>...</td>\n",
       "      <td>6.075012e+09</td>\n",
       "      <td>117.0</td>\n",
       "      <td>Census Tract 117</td>\n",
       "      <td>6</td>\n",
       "      <td>California</td>\n",
       "      <td>6075</td>\n",
       "      <td>San Francisco, CA</td>\n",
       "      <td>805235.0</td>\n",
       "      <td>17179.1</td>\n",
       "      <td>4.7</td>\n",
       "    </tr>\n",
       "    <tr>\n",
       "      <th>19476</th>\n",
       "      <td>7958548</td>\n",
       "      <td>2011</td>\n",
       "      <td>Method for provision of access</td>\n",
       "      <td>H</td>\n",
       "      <td>7671321-2</td>\n",
       "      <td>388</td>\n",
       "      <td>CA</td>\n",
       "      <td>1</td>\n",
       "      <td>0</td>\n",
       "      <td>6.0</td>\n",
       "      <td>...</td>\n",
       "      <td>6.075012e+09</td>\n",
       "      <td>117.0</td>\n",
       "      <td>Census Tract 117</td>\n",
       "      <td>6</td>\n",
       "      <td>California</td>\n",
       "      <td>6075</td>\n",
       "      <td>San Francisco, CA</td>\n",
       "      <td>805235.0</td>\n",
       "      <td>17179.1</td>\n",
       "      <td>4.7</td>\n",
       "    </tr>\n",
       "    <tr>\n",
       "      <th>19477</th>\n",
       "      <td>7821354</td>\n",
       "      <td>2010</td>\n",
       "      <td>Directional coupler</td>\n",
       "      <td>H</td>\n",
       "      <td>4977383-1</td>\n",
       "      <td>650</td>\n",
       "      <td>CA</td>\n",
       "      <td>9</td>\n",
       "      <td>0</td>\n",
       "      <td>6.0</td>\n",
       "      <td>...</td>\n",
       "      <td>6.075012e+09</td>\n",
       "      <td>117.0</td>\n",
       "      <td>Census Tract 117</td>\n",
       "      <td>6</td>\n",
       "      <td>California</td>\n",
       "      <td>6075</td>\n",
       "      <td>San Francisco, CA</td>\n",
       "      <td>805235.0</td>\n",
       "      <td>17179.1</td>\n",
       "      <td>4.7</td>\n",
       "    </tr>\n",
       "    <tr>\n",
       "      <th>19478</th>\n",
       "      <td>9167731</td>\n",
       "      <td>2015</td>\n",
       "      <td>High voltage shielding device and a system com...</td>\n",
       "      <td>H</td>\n",
       "      <td>7994427-1</td>\n",
       "      <td>170</td>\n",
       "      <td>CA</td>\n",
       "      <td>2</td>\n",
       "      <td>0</td>\n",
       "      <td>6.0</td>\n",
       "      <td>...</td>\n",
       "      <td>6.075012e+09</td>\n",
       "      <td>117.0</td>\n",
       "      <td>Census Tract 117</td>\n",
       "      <td>6</td>\n",
       "      <td>California</td>\n",
       "      <td>6075</td>\n",
       "      <td>San Francisco, CA</td>\n",
       "      <td>805235.0</td>\n",
       "      <td>17179.1</td>\n",
       "      <td>4.7</td>\n",
       "    </tr>\n",
       "  </tbody>\n",
       "</table>\n",
       "<p>5 rows × 22 columns</p>\n",
       "</div>"
      ],
      "text/plain": [
       "       patent_id  date                                              title  \\\n",
       "19413    8587862  2013  Second-harmonic generation nonliner frenquency...   \n",
       "19475    8075292  2011                         Eccentric rotor compressor   \n",
       "19476    7958548  2011                     Method for provision of access   \n",
       "19477    7821354  2010                                Directional coupler   \n",
       "19478    9167731  2015  High voltage shielding device and a system com...   \n",
       "\n",
       "      section_id inventor_id city state  it_cited  cited_by  STATEFP  ...  \\\n",
       "19413          G   5438251-1  680    CA         4         0      6.0  ...   \n",
       "19475          F   6468045-1  174    CA         6         0      6.0  ...   \n",
       "19476          H   7671321-2  388    CA         1         0      6.0  ...   \n",
       "19477          H   4977383-1  650    CA         9         0      6.0  ...   \n",
       "19478          H   7994427-1  170    CA         2         0      6.0  ...   \n",
       "\n",
       "              GEOID   NAME          NAMELSAD  State ID  State Name  STCOU  \\\n",
       "19413  6.075018e+09  180.0  Census Tract 180         6  California   6075   \n",
       "19475  6.075012e+09  117.0  Census Tract 117         6  California   6075   \n",
       "19476  6.075012e+09  117.0  Census Tract 117         6  California   6075   \n",
       "19477  6.075012e+09  117.0  Census Tract 117         6  California   6075   \n",
       "19478  6.075012e+09  117.0  Census Tract 117         6  California   6075   \n",
       "\n",
       "               Area_name  total_pop pop_psqm  pct_2races  \n",
       "19413  San Francisco, CA   805235.0  17179.1         4.7  \n",
       "19475  San Francisco, CA   805235.0  17179.1         4.7  \n",
       "19476  San Francisco, CA   805235.0  17179.1         4.7  \n",
       "19477  San Francisco, CA   805235.0  17179.1         4.7  \n",
       "19478  San Francisco, CA   805235.0  17179.1         4.7  \n",
       "\n",
       "[5 rows x 22 columns]"
      ]
     },
     "execution_count": 13,
     "metadata": {},
     "output_type": "execute_result"
    }
   ],
   "source": [
    "# # To check the name of the county\n",
    "imported_df.loc[imported_df['STCOU'] == 6075].head()"
   ]
  },
  {
   "cell_type": "code",
   "execution_count": 14,
   "metadata": {},
   "outputs": [],
   "source": [
    "def rate_of_change(x):\n",
    "    '''This fucntion takes in a county df, takes the totals of patents per year(series) \n",
    "    fits a trend line, returning a slope int'''\n",
    "    #print(x)\n",
    "    year_count_df=x.groupby(['date']).size().to_frame().reset_index().astype(float)\n",
    "    slope, intercept, r_value, p_value, std_err = stats.linregress(year_count_df['date'],year_count_df[0])\n",
    "    #print({x.iloc[0,17]},f':{slope}')\n",
    "    return(slope)"
   ]
  },
  {
   "cell_type": "code",
   "execution_count": 15,
   "metadata": {
    "scrolled": true
   },
   "outputs": [
    {
     "name": "stderr",
     "output_type": "stream",
     "text": [
      "/Users/yusufsohoye/anaconda3/lib/python3.7/site-packages/scipy/stats/_stats_mstats_common.py:116: RuntimeWarning: invalid value encountered in double_scalars\n",
      "  slope = r_num / ssxm\n",
      "/Users/yusufsohoye/anaconda3/lib/python3.7/site-packages/scipy/stats/_stats_mstats_common.py:126: RuntimeWarning: invalid value encountered in sqrt\n",
      "  t = r * np.sqrt(df / ((1.0 - r + TINY)*(1.0 + r + TINY)))\n",
      "/Users/yusufsohoye/anaconda3/lib/python3.7/site-packages/scipy/stats/_stats_mstats_common.py:128: RuntimeWarning: invalid value encountered in double_scalars\n",
      "  sterrest = np.sqrt((1 - r**2) * ssym / ssxm / df)\n"
     ]
    }
   ],
   "source": [
    "group = imported_df.groupby(['STCOU']).apply(rate_of_change).to_frame().reset_index().rename(columns={0: 'grad_pat_output'})\n",
    "# group.sort_values(by=['grad_pat_output'], ascending=False).head()"
   ]
  },
  {
   "cell_type": "code",
   "execution_count": 16,
   "metadata": {},
   "outputs": [
    {
     "data": {
      "text/html": [
       "<div>\n",
       "<style scoped>\n",
       "    .dataframe tbody tr th:only-of-type {\n",
       "        vertical-align: middle;\n",
       "    }\n",
       "\n",
       "    .dataframe tbody tr th {\n",
       "        vertical-align: top;\n",
       "    }\n",
       "\n",
       "    .dataframe thead th {\n",
       "        text-align: right;\n",
       "    }\n",
       "</style>\n",
       "<table border=\"1\" class=\"dataframe\">\n",
       "  <thead>\n",
       "    <tr style=\"text-align: right;\">\n",
       "      <th></th>\n",
       "      <th>STCOU</th>\n",
       "      <th>patent_output</th>\n",
       "      <th>total_cited_by</th>\n",
       "      <th>avg_cit_pp</th>\n",
       "      <th>Area_name</th>\n",
       "      <th>total_pop</th>\n",
       "      <th>pop_psqm</th>\n",
       "      <th>pct_2races</th>\n",
       "      <th>pctle_citedby</th>\n",
       "      <th>it_cited_median</th>\n",
       "      <th>cited_by_median</th>\n",
       "      <th>grad_pat_output</th>\n",
       "    </tr>\n",
       "  </thead>\n",
       "  <tbody>\n",
       "    <tr>\n",
       "      <th>0</th>\n",
       "      <td>6085</td>\n",
       "      <td>13755</td>\n",
       "      <td>28775</td>\n",
       "      <td>2.091967</td>\n",
       "      <td>Santa Clara, CA</td>\n",
       "      <td>1781642.0</td>\n",
       "      <td>1381.0</td>\n",
       "      <td>4.9</td>\n",
       "      <td>5.0</td>\n",
       "      <td>4.0</td>\n",
       "      <td>0.0</td>\n",
       "      <td>-19.178571</td>\n",
       "    </tr>\n",
       "    <tr>\n",
       "      <th>1</th>\n",
       "      <td>6037</td>\n",
       "      <td>5907</td>\n",
       "      <td>10176</td>\n",
       "      <td>1.722702</td>\n",
       "      <td>Los Angeles, CA</td>\n",
       "      <td>9818605.0</td>\n",
       "      <td>2419.6</td>\n",
       "      <td>4.5</td>\n",
       "      <td>4.0</td>\n",
       "      <td>6.0</td>\n",
       "      <td>0.0</td>\n",
       "      <td>2.202381</td>\n",
       "    </tr>\n",
       "    <tr>\n",
       "      <th>2</th>\n",
       "      <td>6073</td>\n",
       "      <td>5445</td>\n",
       "      <td>9663</td>\n",
       "      <td>1.774656</td>\n",
       "      <td>San Diego, CA</td>\n",
       "      <td>3095313.0</td>\n",
       "      <td>735.8</td>\n",
       "      <td>5.1</td>\n",
       "      <td>4.0</td>\n",
       "      <td>5.0</td>\n",
       "      <td>0.0</td>\n",
       "      <td>6.607143</td>\n",
       "    </tr>\n",
       "    <tr>\n",
       "      <th>3</th>\n",
       "      <td>53033</td>\n",
       "      <td>4325</td>\n",
       "      <td>9820</td>\n",
       "      <td>2.270520</td>\n",
       "      <td>King, WA</td>\n",
       "      <td>1931249.0</td>\n",
       "      <td>912.9</td>\n",
       "      <td>5.0</td>\n",
       "      <td>6.0</td>\n",
       "      <td>6.0</td>\n",
       "      <td>0.0</td>\n",
       "      <td>10.011905</td>\n",
       "    </tr>\n",
       "    <tr>\n",
       "      <th>4</th>\n",
       "      <td>6059</td>\n",
       "      <td>4007</td>\n",
       "      <td>9045</td>\n",
       "      <td>2.257300</td>\n",
       "      <td>Orange, CA</td>\n",
       "      <td>3010232.0</td>\n",
       "      <td>3807.7</td>\n",
       "      <td>4.2</td>\n",
       "      <td>5.0</td>\n",
       "      <td>6.0</td>\n",
       "      <td>0.0</td>\n",
       "      <td>1.750000</td>\n",
       "    </tr>\n",
       "  </tbody>\n",
       "</table>\n",
       "</div>"
      ],
      "text/plain": [
       "   STCOU  patent_output  total_cited_by  avg_cit_pp        Area_name  \\\n",
       "0   6085          13755           28775    2.091967  Santa Clara, CA   \n",
       "1   6037           5907           10176    1.722702  Los Angeles, CA   \n",
       "2   6073           5445            9663    1.774656    San Diego, CA   \n",
       "3  53033           4325            9820    2.270520         King, WA   \n",
       "4   6059           4007            9045    2.257300       Orange, CA   \n",
       "\n",
       "   total_pop  pop_psqm  pct_2races  pctle_citedby  it_cited_median  \\\n",
       "0  1781642.0    1381.0         4.9            5.0              4.0   \n",
       "1  9818605.0    2419.6         4.5            4.0              6.0   \n",
       "2  3095313.0     735.8         5.1            4.0              5.0   \n",
       "3  1931249.0     912.9         5.0            6.0              6.0   \n",
       "4  3010232.0    3807.7         4.2            5.0              6.0   \n",
       "\n",
       "   cited_by_median  grad_pat_output  \n",
       "0              0.0       -19.178571  \n",
       "1              0.0         2.202381  \n",
       "2              0.0         6.607143  \n",
       "3              0.0        10.011905  \n",
       "4              0.0         1.750000  "
      ]
     },
     "execution_count": 16,
     "metadata": {},
     "output_type": "execute_result"
    }
   ],
   "source": [
    "#Join to main dataframe\n",
    "master_df = pd.merge(master_df, group, on = 'STCOU',  how='outer')\n",
    "master_df.head()\n",
    "#master_df.shape"
   ]
  },
  {
   "cell_type": "code",
   "execution_count": 17,
   "metadata": {
    "scrolled": true
   },
   "outputs": [
    {
     "data": {
      "text/html": [
       "<div>\n",
       "<style scoped>\n",
       "    .dataframe tbody tr th:only-of-type {\n",
       "        vertical-align: middle;\n",
       "    }\n",
       "\n",
       "    .dataframe tbody tr th {\n",
       "        vertical-align: top;\n",
       "    }\n",
       "\n",
       "    .dataframe thead th {\n",
       "        text-align: right;\n",
       "    }\n",
       "</style>\n",
       "<table border=\"1\" class=\"dataframe\">\n",
       "  <thead>\n",
       "    <tr style=\"text-align: right;\">\n",
       "      <th></th>\n",
       "      <th>STCOU</th>\n",
       "      <th>Area_name</th>\n",
       "      <th>patent_output</th>\n",
       "      <th>grad_pat_output</th>\n",
       "      <th>total_cited_by</th>\n",
       "      <th>mean_cit_pp</th>\n",
       "      <th>pctle_citedby</th>\n",
       "      <th>total_pop</th>\n",
       "      <th>pop_psqm</th>\n",
       "      <th>pct_2races</th>\n",
       "    </tr>\n",
       "  </thead>\n",
       "  <tbody>\n",
       "    <tr>\n",
       "      <th>0</th>\n",
       "      <td>6085</td>\n",
       "      <td>Santa Clara, CA</td>\n",
       "      <td>13755</td>\n",
       "      <td>-19.178571</td>\n",
       "      <td>28775</td>\n",
       "      <td>2.091967</td>\n",
       "      <td>5.0</td>\n",
       "      <td>1781642.0</td>\n",
       "      <td>1381.0</td>\n",
       "      <td>4.9</td>\n",
       "    </tr>\n",
       "    <tr>\n",
       "      <th>1</th>\n",
       "      <td>6037</td>\n",
       "      <td>Los Angeles, CA</td>\n",
       "      <td>5907</td>\n",
       "      <td>2.202381</td>\n",
       "      <td>10176</td>\n",
       "      <td>1.722702</td>\n",
       "      <td>4.0</td>\n",
       "      <td>9818605.0</td>\n",
       "      <td>2419.6</td>\n",
       "      <td>4.5</td>\n",
       "    </tr>\n",
       "    <tr>\n",
       "      <th>2</th>\n",
       "      <td>6073</td>\n",
       "      <td>San Diego, CA</td>\n",
       "      <td>5445</td>\n",
       "      <td>6.607143</td>\n",
       "      <td>9663</td>\n",
       "      <td>1.774656</td>\n",
       "      <td>4.0</td>\n",
       "      <td>3095313.0</td>\n",
       "      <td>735.8</td>\n",
       "      <td>5.1</td>\n",
       "    </tr>\n",
       "    <tr>\n",
       "      <th>3</th>\n",
       "      <td>53033</td>\n",
       "      <td>King, WA</td>\n",
       "      <td>4325</td>\n",
       "      <td>10.011905</td>\n",
       "      <td>9820</td>\n",
       "      <td>2.270520</td>\n",
       "      <td>6.0</td>\n",
       "      <td>1931249.0</td>\n",
       "      <td>912.9</td>\n",
       "      <td>5.0</td>\n",
       "    </tr>\n",
       "    <tr>\n",
       "      <th>4</th>\n",
       "      <td>6059</td>\n",
       "      <td>Orange, CA</td>\n",
       "      <td>4007</td>\n",
       "      <td>1.750000</td>\n",
       "      <td>9045</td>\n",
       "      <td>2.257300</td>\n",
       "      <td>5.0</td>\n",
       "      <td>3010232.0</td>\n",
       "      <td>3807.7</td>\n",
       "      <td>4.2</td>\n",
       "    </tr>\n",
       "  </tbody>\n",
       "</table>\n",
       "</div>"
      ],
      "text/plain": [
       "   STCOU        Area_name  patent_output  grad_pat_output  total_cited_by  \\\n",
       "0   6085  Santa Clara, CA          13755       -19.178571           28775   \n",
       "1   6037  Los Angeles, CA           5907         2.202381           10176   \n",
       "2   6073    San Diego, CA           5445         6.607143            9663   \n",
       "3  53033         King, WA           4325        10.011905            9820   \n",
       "4   6059       Orange, CA           4007         1.750000            9045   \n",
       "\n",
       "   mean_cit_pp  pctle_citedby  total_pop  pop_psqm  pct_2races  \n",
       "0     2.091967            5.0  1781642.0    1381.0         4.9  \n",
       "1     1.722702            4.0  9818605.0    2419.6         4.5  \n",
       "2     1.774656            4.0  3095313.0     735.8         5.1  \n",
       "3     2.270520            6.0  1931249.0     912.9         5.0  \n",
       "4     2.257300            5.0  3010232.0    3807.7         4.2  "
      ]
     },
     "execution_count": 17,
     "metadata": {},
     "output_type": "execute_result"
    }
   ],
   "source": [
    "#Reordering Columns\n",
    "list(master_df.columns.values)\n",
    "master_df = master_df.rename(columns={'avg_cit_pp': 'mean_cit_pp'})\n",
    "master_df = master_df[['STCOU', 'Area_name', 'patent_output','grad_pat_output', \n",
    "                       'total_cited_by', 'mean_cit_pp', 'pctle_citedby', \n",
    "                       'total_pop', 'pop_psqm', 'pct_2races', ]]\n",
    "master_df.head()"
   ]
  },
  {
   "cell_type": "code",
   "execution_count": 18,
   "metadata": {},
   "outputs": [
    {
     "data": {
      "text/plain": [
       "(2382, 10)"
      ]
     },
     "execution_count": 18,
     "metadata": {},
     "output_type": "execute_result"
    }
   ],
   "source": [
    "master_df.shape"
   ]
  },
  {
   "cell_type": "code",
   "execution_count": 19,
   "metadata": {},
   "outputs": [],
   "source": [
    "master_df.to_csv ('master_df.csv', header=True, index=False)"
   ]
  }
 ],
 "metadata": {
  "kernelspec": {
   "display_name": "Python 3",
   "language": "python",
   "name": "python3"
  },
  "language_info": {
   "codemirror_mode": {
    "name": "ipython",
    "version": 3
   },
   "file_extension": ".py",
   "mimetype": "text/x-python",
   "name": "python",
   "nbconvert_exporter": "python",
   "pygments_lexer": "ipython3",
   "version": "3.7.3"
  },
  "varInspector": {
   "cols": {
    "lenName": 16,
    "lenType": 16,
    "lenVar": 40
   },
   "kernels_config": {
    "python": {
     "delete_cmd_postfix": "",
     "delete_cmd_prefix": "del ",
     "library": "var_list.py",
     "varRefreshCmd": "print(var_dic_list())"
    },
    "r": {
     "delete_cmd_postfix": ") ",
     "delete_cmd_prefix": "rm(",
     "library": "var_list.r",
     "varRefreshCmd": "cat(var_dic_list()) "
    }
   },
   "types_to_exclude": [
    "module",
    "function",
    "builtin_function_or_method",
    "instance",
    "_Feature"
   ],
   "window_display": false
  }
 },
 "nbformat": 4,
 "nbformat_minor": 2
}
