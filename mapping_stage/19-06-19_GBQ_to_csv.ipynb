{
 "cells": [
  {
   "cell_type": "markdown",
   "metadata": {},
   "source": [
    "# Exporting the GBQ data into CSV format\n",
    "\n",
    "First we connect to Google Big Query to find our data set \"master_post_2010_citation_count\". This contains all single authored patents in the USA with the citation counts. "
   ]
  },
  {
   "cell_type": "code",
   "execution_count": 1,
   "metadata": {},
   "outputs": [],
   "source": [
    "from google.oauth2 import service_account\n",
    "import pandas_gbq\n",
    "\n",
    "from arcgis.gis import GIS\n",
    "from arcgis import features\n",
    "import pandas as pd\n",
    "\n",
    "credentials = service_account.Credentials.from_service_account_file('./4108f9801bf4.json')"
   ]
  },
  {
   "cell_type": "code",
   "execution_count": 2,
   "metadata": {},
   "outputs": [
    {
     "data": {
      "text/plain": [
       "(162941, 13)"
      ]
     },
     "execution_count": 2,
     "metadata": {},
     "output_type": "execute_result"
    }
   ],
   "source": [
    "#specify the table required\n",
    "sql = \"\"\"\n",
    "SELECT *\n",
    "FROM `patent-data-querying.query_results.master_post_2010_citation_count`\n",
    "\"\"\"\n",
    "\n",
    "#use the read method to access the data\n",
    "df = pandas_gbq.read_gbq(sql, project_id=\"patent-data-querying\", credentials=credentials)\n",
    "df.shape"
   ]
  },
  {
   "cell_type": "code",
   "execution_count": 3,
   "metadata": {},
   "outputs": [
    {
     "data": {
      "text/html": [
       "<div>\n",
       "<style scoped>\n",
       "    .dataframe tbody tr th:only-of-type {\n",
       "        vertical-align: middle;\n",
       "    }\n",
       "\n",
       "    .dataframe tbody tr th {\n",
       "        vertical-align: top;\n",
       "    }\n",
       "\n",
       "    .dataframe thead th {\n",
       "        text-align: right;\n",
       "    }\n",
       "</style>\n",
       "<table border=\"1\" class=\"dataframe\">\n",
       "  <thead>\n",
       "    <tr style=\"text-align: right;\">\n",
       "      <th></th>\n",
       "      <th>patent_id</th>\n",
       "      <th>date</th>\n",
       "      <th>title</th>\n",
       "      <th>section_id</th>\n",
       "      <th>inventor_id</th>\n",
       "      <th>location_id</th>\n",
       "      <th>city</th>\n",
       "      <th>state</th>\n",
       "      <th>country</th>\n",
       "      <th>it_cited</th>\n",
       "      <th>cited_by</th>\n",
       "      <th>latitude</th>\n",
       "      <th>longitude</th>\n",
       "    </tr>\n",
       "  </thead>\n",
       "  <tbody>\n",
       "    <tr>\n",
       "      <th>0</th>\n",
       "      <td>9695527</td>\n",
       "      <td>2017-07-04</td>\n",
       "      <td>Universal hand loom kit for weaving and creati...</td>\n",
       "      <td>D</td>\n",
       "      <td>9695527-1</td>\n",
       "      <td>qoalifo107mp</td>\n",
       "      <td>Montpelier</td>\n",
       "      <td>VT</td>\n",
       "      <td>US</td>\n",
       "      <td>25</td>\n",
       "      <td>0</td>\n",
       "      <td>44.26</td>\n",
       "      <td>-72.5758</td>\n",
       "    </tr>\n",
       "    <tr>\n",
       "      <th>1</th>\n",
       "      <td>8869569</td>\n",
       "      <td>2014-10-28</td>\n",
       "      <td>Clothes washer demand response with at least o...</td>\n",
       "      <td>D</td>\n",
       "      <td>6932317-2</td>\n",
       "      <td>s71tpw8l6zhb</td>\n",
       "      <td>Louisville</td>\n",
       "      <td>KY</td>\n",
       "      <td>US</td>\n",
       "      <td>123</td>\n",
       "      <td>1</td>\n",
       "      <td>38.2527</td>\n",
       "      <td>-85.7585</td>\n",
       "    </tr>\n",
       "    <tr>\n",
       "      <th>2</th>\n",
       "      <td>7926518</td>\n",
       "      <td>2011-04-19</td>\n",
       "      <td>System for support of the cutting bench in a f...</td>\n",
       "      <td>D</td>\n",
       "      <td>4614210-1</td>\n",
       "      <td>hjwymoeaxrtm</td>\n",
       "      <td>None</td>\n",
       "      <td>None</td>\n",
       "      <td>US</td>\n",
       "      <td>10</td>\n",
       "      <td>1</td>\n",
       "      <td>39.8282</td>\n",
       "      <td>-98.5795</td>\n",
       "    </tr>\n",
       "    <tr>\n",
       "      <th>3</th>\n",
       "      <td>9580844</td>\n",
       "      <td>2017-02-28</td>\n",
       "      <td>Method for weaving pile fabrics and for config...</td>\n",
       "      <td>D</td>\n",
       "      <td>4614210-1</td>\n",
       "      <td>hjwymoeaxrtm</td>\n",
       "      <td>None</td>\n",
       "      <td>None</td>\n",
       "      <td>US</td>\n",
       "      <td>17</td>\n",
       "      <td>0</td>\n",
       "      <td>39.8282</td>\n",
       "      <td>-98.5795</td>\n",
       "    </tr>\n",
       "    <tr>\n",
       "      <th>4</th>\n",
       "      <td>8763184</td>\n",
       "      <td>2014-07-01</td>\n",
       "      <td>Control method of a laundry machine</td>\n",
       "      <td>D</td>\n",
       "      <td>6618887-6</td>\n",
       "      <td>w5qu45ydsu9u</td>\n",
       "      <td>Fremont</td>\n",
       "      <td>CA</td>\n",
       "      <td>US</td>\n",
       "      <td>29</td>\n",
       "      <td>0</td>\n",
       "      <td>37.5483</td>\n",
       "      <td>-121.989</td>\n",
       "    </tr>\n",
       "  </tbody>\n",
       "</table>\n",
       "</div>"
      ],
      "text/plain": [
       "  patent_id        date                                              title  \\\n",
       "0   9695527  2017-07-04  Universal hand loom kit for weaving and creati...   \n",
       "1   8869569  2014-10-28  Clothes washer demand response with at least o...   \n",
       "2   7926518  2011-04-19  System for support of the cutting bench in a f...   \n",
       "3   9580844  2017-02-28  Method for weaving pile fabrics and for config...   \n",
       "4   8763184  2014-07-01                Control method of a laundry machine   \n",
       "\n",
       "  section_id inventor_id   location_id        city state country  it_cited  \\\n",
       "0          D   9695527-1  qoalifo107mp  Montpelier    VT      US        25   \n",
       "1          D   6932317-2  s71tpw8l6zhb  Louisville    KY      US       123   \n",
       "2          D   4614210-1  hjwymoeaxrtm        None  None      US        10   \n",
       "3          D   4614210-1  hjwymoeaxrtm        None  None      US        17   \n",
       "4          D   6618887-6  w5qu45ydsu9u     Fremont    CA      US        29   \n",
       "\n",
       "   cited_by latitude longitude  \n",
       "0         0    44.26  -72.5758  \n",
       "1         1  38.2527  -85.7585  \n",
       "2         1  39.8282  -98.5795  \n",
       "3         0  39.8282  -98.5795  \n",
       "4         0  37.5483  -121.989  "
      ]
     },
     "execution_count": 3,
     "metadata": {},
     "output_type": "execute_result"
    }
   ],
   "source": [
    "df.head()"
   ]
  },
  {
   "cell_type": "markdown",
   "metadata": {},
   "source": [
    "# Create the CSV\n",
    "\n",
    "I have found the csv file type easier to import into QGIS."
   ]
  },
  {
   "cell_type": "code",
   "execution_count": 4,
   "metadata": {},
   "outputs": [],
   "source": [
    "df.to_csv (r'patents.csv')"
   ]
  },
  {
   "cell_type": "markdown",
   "metadata": {},
   "source": [
    "# Exploratory Stats\n",
    "\n",
    "Start with the category breakdown, the key can be found [here](https://www.epo.org/searching-for-patents/helpful-resources/first-time-here/classification/cpc.html)"
   ]
  },
  {
   "cell_type": "code",
   "execution_count": 16,
   "metadata": {},
   "outputs": [
    {
     "data": {
      "text/plain": [
       "<matplotlib.axes._subplots.AxesSubplot at 0xa36b15860>"
      ]
     },
     "execution_count": 16,
     "metadata": {},
     "output_type": "execute_result"
    },
    {
     "data": {
      "image/png": "[encoded data removed]",
      "text/plain": [
       "<Figure size 360x360 with 1 Axes>"
      ]
     },
     "metadata": {},
     "output_type": "display_data"
    }
   ],
   "source": [
    "#Section Breakdown\n",
    "df_section_id = df.groupby('section_id')['patent_id'].nunique()\n",
    "plot = df_section_id.plot.pie(y='section_id', figsize=(5, 5))\n",
    "plot"
   ]
  }
 ],
 "metadata": {
  "kernelspec": {
   "display_name": "Python 3",
   "language": "python",
   "name": "python3"
  },
  "language_info": {
   "codemirror_mode": {
    "name": "ipython",
    "version": 3
   },
   "file_extension": ".py",
   "mimetype": "text/x-python",
   "name": "python",
   "nbconvert_exporter": "python",
   "pygments_lexer": "ipython3",
   "version": "3.7.3"
  },
  "varInspector": {
   "cols": {
    "lenName": 16,
    "lenType": 16,
    "lenVar": 40
   },
   "kernels_config": {
    "python": {
     "delete_cmd_postfix": "",
     "delete_cmd_prefix": "del ",
     "library": "var_list.py",
     "varRefreshCmd": "print(var_dic_list())"
    },
    "r": {
     "delete_cmd_postfix": ") ",
     "delete_cmd_prefix": "rm(",
     "library": "var_list.r",
     "varRefreshCmd": "cat(var_dic_list()) "
    }
   },
   "types_to_exclude": [
    "module",
    "function",
    "builtin_function_or_method",
    "instance",
    "_Feature"
   ],
   "window_display": false
  }
 },
 "nbformat": 4,
 "nbformat_minor": 2
}
